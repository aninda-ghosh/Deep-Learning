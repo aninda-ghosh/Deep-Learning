{
  "nbformat": 4,
  "nbformat_minor": 0,
  "metadata": {
    "colab": {
      "provenance": [],
      "authorship_tag": "ABX9TyPsertCL1F+elhA5IKCkYZN",
      "include_colab_link": true
    },
    "kernelspec": {
      "name": "python3",
      "display_name": "Python 3"
    },
    "language_info": {
      "name": "python"
    },
    "gpuClass": "standard"
  },
  "cells": [
    {
      "cell_type": "markdown",
      "metadata": {
        "id": "view-in-github",
        "colab_type": "text"
      },
      "source": [
        "<a href=\"https://colab.research.google.com/github/aninda-ghosh/Deep-Learning/blob/master/Traffic_Signal_Analysis_CNN.ipynb\" target=\"_parent\"><img src=\"https://colab.research.google.com/assets/colab-badge.svg\" alt=\"Open In Colab\"/></a>"
      ]
    },
    {
      "cell_type": "code",
      "execution_count": null,
      "metadata": {
        "colab": {
          "base_uri": "https://localhost:8080/"
        },
        "id": "wa0tRunmjEaJ",
        "outputId": "40bad9db-d590-4ef5-ea12-828757bd197e"
      },
      "outputs": [
        {
          "output_type": "stream",
          "name": "stdout",
          "text": [
            "Drive already mounted at /content/drive; to attempt to forcibly remount, call drive.mount(\"/content/drive\", force_remount=True).\n"
          ]
        }
      ],
      "source": [
        "from google.colab import drive\n",
        "drive.mount('/content/drive')"
      ]
    },
    {
      "cell_type": "markdown",
      "source": [
        "**Let's Import the necessary libraries**"
      ],
      "metadata": {
        "id": "OfIRND952iAb"
      }
    },
    {
      "cell_type": "code",
      "source": [
        "import matplotlib\n",
        "matplotlib.use(\"Agg\")\n",
        "\n",
        "from tensorflow.keras.preprocessing.image import ImageDataGenerator\n",
        "from tensorflow.keras.optimizers import Adam\n",
        "from tensorflow.keras.utils import to_categorical\n",
        "from sklearn.metrics import classification_report\n",
        "from skimage import transform\n",
        "from skimage import exposure\n",
        "from skimage import io\n",
        "import scipy.io as sio\n",
        "import matplotlib.pyplot as plt\n",
        "import numpy as np\n",
        "%matplotlib inline\n",
        "\n",
        "# import the necessary tensorflow packages\n",
        "from tensorflow.keras.models import Sequential\n",
        "from tensorflow.keras.layers import BatchNormalization\n",
        "from tensorflow.keras.layers import Conv2D\n",
        "from tensorflow.keras.layers import MaxPooling2D\n",
        "from tensorflow.keras.layers import Activation\n",
        "from tensorflow.keras.layers import Flatten\n",
        "from tensorflow.keras.layers import Dropout\n",
        "from tensorflow.keras.layers import Dense\n"
      ],
      "metadata": {
        "id": "lQTAttNq2c2S"
      },
      "execution_count": null,
      "outputs": []
    },
    {
      "cell_type": "markdown",
      "source": [
        "**Let's bring the datasets for analysis**"
      ],
      "metadata": {
        "id": "IohakICtdtn4"
      }
    },
    {
      "cell_type": "code",
      "source": [
        "train_data = sio.loadmat(\"/content/drive/MyDrive/Machine Learning/Dataset/trainset.mat\")\n",
        "test_data = sio.loadmat(\"/content/drive/MyDrive/Machine Learning/Dataset/testset.mat\")\n",
        "\n",
        "image_width = 32\n",
        "image_height = 32\n",
        "classes = 43"
      ],
      "metadata": {
        "id": "9QF8wrPAduDB"
      },
      "execution_count": null,
      "outputs": []
    },
    {
      "cell_type": "markdown",
      "source": [
        "**Defining CNN Model**"
      ],
      "metadata": {
        "id": "nGRQhnWYcF13"
      }
    },
    {
      "cell_type": "code",
      "source": [
        "# initialize the model along with the input shape to be\n",
        "# \"channels last\" and the channels dimension itself\n",
        "model = Sequential()\n",
        "inputShape = (image_width, image_height, 3) #32x32 pixels of image and 3 for RGB color space\n",
        "chanDim = -1\n",
        "\n",
        "# This set of layers uses a 5×5 kernel to learn larger features — \n",
        "# it will help to distinguish between different traffic sign shapes and color \n",
        "# blobs on the traffic signs themselves.\n",
        "# CONV => RELU => BN => POOL\n",
        "model.add(Conv2D(8, (5, 5), padding=\"same\", input_shape=inputShape))\n",
        "model.add(Activation(\"relu\"))\n",
        "model.add(BatchNormalization(axis=chanDim))\n",
        "model.add(MaxPooling2D(pool_size=(2, 2)))\n",
        "\n",
        "# These sets of layers deepen the network by stacking two sets of \n",
        "# CONV => RELU => BN layers before applying max-pooling to reduce volume dimensionality.\n",
        "# first set of (CONV => RELU => CONV => RELU) * 2 => POOL\n",
        "model.add(Conv2D(16, (3, 3), padding=\"same\"))\n",
        "model.add(Activation(\"relu\"))\n",
        "model.add(BatchNormalization(axis=chanDim))\n",
        "model.add(Conv2D(16, (3, 3), padding=\"same\"))\n",
        "model.add(Activation(\"relu\"))\n",
        "model.add(BatchNormalization(axis=chanDim))\n",
        "model.add(MaxPooling2D(pool_size=(2, 2)))\n",
        "# second set of (CONV => RELU => CONV => RELU) * 2 => POOL\n",
        "model.add(Conv2D(32, (3, 3), padding=\"same\"))\n",
        "model.add(Activation(\"relu\"))\n",
        "model.add(BatchNormalization(axis=chanDim))\n",
        "model.add(Conv2D(32, (3, 3), padding=\"same\"))\n",
        "model.add(Activation(\"relu\"))\n",
        "model.add(BatchNormalization(axis=chanDim))\n",
        "model.add(MaxPooling2D(pool_size=(2, 2)))\n",
        "\n",
        "# first set of FC => RELU layers\n",
        "model.add(Flatten())\n",
        "model.add(Dense(128))\n",
        "model.add(Activation(\"relu\"))\n",
        "model.add(BatchNormalization())\n",
        "model.add(Dropout(0.5))\n",
        "# second set of FC => RELU layers\n",
        "model.add(Flatten())\n",
        "model.add(Dense(128))\n",
        "model.add(Activation(\"relu\"))\n",
        "model.add(BatchNormalization())\n",
        "model.add(Dropout(0.5))\n",
        "# softmax classifier\n",
        "model.add(Dense(classes))\n",
        "model.add(Activation(\"softmax\"))"
      ],
      "metadata": {
        "id": "4YajSXuecFaP"
      },
      "execution_count": null,
      "outputs": []
    },
    {
      "cell_type": "markdown",
      "source": [
        "**Images are to be resized and contrast enhanced for better accuracy.**"
      ],
      "metadata": {
        "id": "WqMa2eqnWX6u"
      }
    },
    {
      "cell_type": "code",
      "source": [
        "#Applying image transform to resize everything into 32x32 pixels and applying CLAHE method to improve the contrast.\n",
        "no_TrainImages = len(train_data['X'])\n",
        "for i in range(0,no_TrainImages):\n",
        "  # check to see if we should show a status update\n",
        "  if i > 0 and i % 1000 == 0:\n",
        "    print(\"[Train INFO] processed {} images / {} total images\".format(i, no_TrainImages))\n",
        "  train_data['X'][i] = transform.resize(train_data['X'][i], (32,32))\n",
        "  train_data['X'][i] = exposure.equalize_adapthist(train_data['X'][i], clip_limit=0.1)\n",
        "\n",
        "#Applying image transform to resize everything into 32x32 pixels and applying CLAHE method to improve the contrast.\n",
        "no_TestImages = len(test_data['X'])\n",
        "for i in range(0,no_TestImages):\n",
        "  # check to see if we should show a status update\n",
        "  if i > 0 and i % 1000 == 0:\n",
        "    print(\"[Test INFO] processed {} total images / {} total images\".format(i, no_TestImages))\n",
        "  test_data['X'][i] = transform.resize(test_data['X'][i], (32,32))\n",
        "  test_data['X'][i] = exposure.equalize_adapthist(test_data['X'][i], clip_limit=0.1)"
      ],
      "metadata": {
        "colab": {
          "base_uri": "https://localhost:8080/"
        },
        "id": "2nFC1-LH3NCn",
        "outputId": "4e15b91f-c8cf-4711-fd47-3dd74ed44f07"
      },
      "execution_count": null,
      "outputs": [
        {
          "output_type": "stream",
          "name": "stdout",
          "text": [
            "[Train INFO] processed 1000 images / 39209 total images\n",
            "[Train INFO] processed 2000 images / 39209 total images\n",
            "[Train INFO] processed 3000 images / 39209 total images\n",
            "[Train INFO] processed 4000 images / 39209 total images\n",
            "[Train INFO] processed 5000 images / 39209 total images\n",
            "[Train INFO] processed 6000 images / 39209 total images\n",
            "[Train INFO] processed 7000 images / 39209 total images\n",
            "[Train INFO] processed 8000 images / 39209 total images\n",
            "[Train INFO] processed 9000 images / 39209 total images\n",
            "[Train INFO] processed 10000 images / 39209 total images\n",
            "[Train INFO] processed 11000 images / 39209 total images\n",
            "[Train INFO] processed 12000 images / 39209 total images\n",
            "[Train INFO] processed 13000 images / 39209 total images\n",
            "[Train INFO] processed 14000 images / 39209 total images\n",
            "[Train INFO] processed 15000 images / 39209 total images\n",
            "[Train INFO] processed 16000 images / 39209 total images\n",
            "[Train INFO] processed 17000 images / 39209 total images\n",
            "[Train INFO] processed 18000 images / 39209 total images\n",
            "[Train INFO] processed 19000 images / 39209 total images\n",
            "[Train INFO] processed 20000 images / 39209 total images\n",
            "[Train INFO] processed 21000 images / 39209 total images\n",
            "[Train INFO] processed 22000 images / 39209 total images\n",
            "[Train INFO] processed 23000 images / 39209 total images\n",
            "[Train INFO] processed 24000 images / 39209 total images\n",
            "[Train INFO] processed 25000 images / 39209 total images\n",
            "[Train INFO] processed 26000 images / 39209 total images\n",
            "[Train INFO] processed 27000 images / 39209 total images\n",
            "[Train INFO] processed 28000 images / 39209 total images\n",
            "[Train INFO] processed 29000 images / 39209 total images\n",
            "[Train INFO] processed 30000 images / 39209 total images\n",
            "[Train INFO] processed 31000 images / 39209 total images\n",
            "[Train INFO] processed 32000 images / 39209 total images\n",
            "[Train INFO] processed 33000 images / 39209 total images\n",
            "[Train INFO] processed 34000 images / 39209 total images\n",
            "[Train INFO] processed 35000 images / 39209 total images\n",
            "[Train INFO] processed 36000 images / 39209 total images\n",
            "[Train INFO] processed 37000 images / 39209 total images\n",
            "[Train INFO] processed 38000 images / 39209 total images\n",
            "[Train INFO] processed 39000 images / 39209 total images\n",
            "[Test INFO] processed 1000 total images / 12630 total images\n",
            "[Test INFO] processed 2000 total images / 12630 total images\n",
            "[Test INFO] processed 3000 total images / 12630 total images\n",
            "[Test INFO] processed 4000 total images / 12630 total images\n",
            "[Test INFO] processed 5000 total images / 12630 total images\n",
            "[Test INFO] processed 6000 total images / 12630 total images\n",
            "[Test INFO] processed 7000 total images / 12630 total images\n",
            "[Test INFO] processed 8000 total images / 12630 total images\n",
            "[Test INFO] processed 9000 total images / 12630 total images\n",
            "[Test INFO] processed 10000 total images / 12630 total images\n",
            "[Test INFO] processed 11000 total images / 12630 total images\n",
            "[Test INFO] processed 12000 total images / 12630 total images\n"
          ]
        }
      ]
    },
    {
      "cell_type": "markdown",
      "source": [
        "Since we have multiple labels, we have to do one hot encoding for performing the network training"
      ],
      "metadata": {
        "id": "hnOtk0wpWf3E"
      }
    },
    {
      "cell_type": "code",
      "source": [
        "# one-hot encode the training and testing labels\n",
        "print(len(np.unique(train_data['Y'])))\n",
        "\n",
        "numLabels = len(np.unique(train_data['Y']))\n",
        "train_Y = to_categorical(train_data['Y'], numLabels)\n",
        "test_Y = to_categorical(test_data['Y'], numLabels)\n",
        "\n",
        "# calculate the total number of images in each class and\n",
        "# initialize a dictionary to store the class weights\n",
        "classTotals = train_Y.sum(axis=0)\n",
        "classWeight = dict()\n",
        "# loop over all classes and calculate the class weight\n",
        "for i in range(0, len(classTotals)):\n",
        "\tclassWeight[i] = classTotals.max() / classTotals[i]"
      ],
      "metadata": {
        "colab": {
          "base_uri": "https://localhost:8080/"
        },
        "id": "BYa4sJ0ofxM2",
        "outputId": "3495a09c-513e-4960-d0a5-5664ecb90689"
      },
      "execution_count": null,
      "outputs": [
        {
          "output_type": "stream",
          "name": "stdout",
          "text": [
            "43\n",
            "{0: 10.714286, 1: 1.0135136, 2: 1.119403, 3: 1.7045455, 4: 1.0714285, 5: 1.0416666, 6: 2.8846154, 7: 3.5714285, 8: 5.357143, 9: 2.0270271, 10: 1.875, 11: 10.714286, 12: 1.0, 13: 6.25, 14: 6.818182, 15: 5.769231, 16: 4.4117646, 17: 8.333333, 18: 1.5, 19: 3.75, 20: 9.375, 21: 4.1666665, 22: 8.333333, 23: 1.5957447, 24: 5.0, 25: 2.8846154, 26: 9.375, 27: 3.2656024, 28: 5.357143, 29: 1.875, 30: 5.769231, 31: 10.714286, 32: 1.0869565, 33: 7.5, 34: 1.1363636, 35: 6.25, 36: 9.375, 37: 9.375, 38: 1.2096775, 39: 5.357143, 40: 1.5625, 41: 1.5957447, 42: 1.5306122}\n"
          ]
        }
      ]
    },
    {
      "cell_type": "markdown",
      "source": [
        "**We will use image data generator for augmenting various kinds of  image data like rotating the image or zooming in. This is for ensuring the network is not too biased**"
      ],
      "metadata": {
        "id": "DMEvBdqRWqBG"
      }
    },
    {
      "cell_type": "code",
      "source": [
        "# construct the image generator for data augmentation\n",
        "aug = ImageDataGenerator(\n",
        "\trotation_range=10,\n",
        "\tzoom_range=0.15,\n",
        "\twidth_shift_range=0.1,\n",
        "\theight_shift_range=0.1,\n",
        "\tshear_range=0.15,\n",
        "\thorizontal_flip=False,\n",
        "\tvertical_flip=False,\n",
        "\tfill_mode=\"nearest\")\n",
        "\n",
        "# initialize the number of epochs to train for, base learning rate,\n",
        "# and batch size\n",
        "NUM_EPOCHS = 30\n",
        "INIT_LR = 1e-3\n",
        "BS = 64\n",
        "\n",
        "\n",
        "# initialize the optimizer and compile the model\n",
        "print(\"[INFO] compiling model...\")\n",
        "opt = Adam(lr=INIT_LR, decay=INIT_LR / (NUM_EPOCHS * 0.5))\n",
        "\n",
        "model.compile(loss=\"categorical_crossentropy\", optimizer=opt, metrics=[\"accuracy\"])"
      ],
      "metadata": {
        "id": "4Cdq90qJoLU5",
        "colab": {
          "base_uri": "https://localhost:8080/"
        },
        "outputId": "39e3b967-8a3f-4b94-8ad3-f972dca54c58"
      },
      "execution_count": null,
      "outputs": [
        {
          "output_type": "stream",
          "name": "stdout",
          "text": [
            "[INFO] compiling model...\n"
          ]
        },
        {
          "output_type": "stream",
          "name": "stderr",
          "text": [
            "/usr/local/lib/python3.7/dist-packages/keras/optimizers/optimizer_v2/adam.py:110: UserWarning: The `lr` argument is deprecated, use `learning_rate` instead.\n",
            "  super(Adam, self).__init__(name, **kwargs)\n"
          ]
        }
      ]
    },
    {
      "cell_type": "markdown",
      "source": [
        "**Training the network**"
      ],
      "metadata": {
        "id": "kb5uceodW3cw"
      }
    },
    {
      "cell_type": "code",
      "source": [
        "# train the network\n",
        "print(\"[INFO] training network...\")\n",
        "H = model.fit(\n",
        "\taug.flow(train_data['X'], train_Y, batch_size=BS),\n",
        "\tvalidation_data=(test_data['X'], test_Y),\n",
        "\tsteps_per_epoch=train_data['X'].shape[0] // BS,\n",
        "\tepochs=NUM_EPOCHS,\n",
        "\tclass_weight=classWeight,\n",
        "\tverbose=1)"
      ],
      "metadata": {
        "colab": {
          "base_uri": "https://localhost:8080/"
        },
        "id": "l-o2Bz7KEAjW",
        "outputId": "74f44818-602f-487c-9681-fc8efa01fb98"
      },
      "execution_count": null,
      "outputs": [
        {
          "output_type": "stream",
          "name": "stdout",
          "text": [
            "[INFO] training network...\n",
            "Epoch 1/30\n",
            "612/612 [==============================] - 122s 195ms/step - loss: 6.2892 - accuracy: 0.3031 - val_loss: 0.9733 - val_accuracy: 0.7069\n",
            "Epoch 2/30\n",
            "612/612 [==============================] - 113s 185ms/step - loss: 2.7075 - accuracy: 0.6254 - val_loss: 0.6104 - val_accuracy: 0.8016\n",
            "Epoch 3/30\n",
            "612/612 [==============================] - 106s 173ms/step - loss: 1.6886 - accuracy: 0.7556 - val_loss: 0.4567 - val_accuracy: 0.8466\n",
            "Epoch 4/30\n",
            "612/612 [==============================] - 107s 175ms/step - loss: 1.1795 - accuracy: 0.8248 - val_loss: 0.2635 - val_accuracy: 0.9221\n",
            "Epoch 5/30\n",
            "612/612 [==============================] - 107s 175ms/step - loss: 0.9524 - accuracy: 0.8601 - val_loss: 0.2332 - val_accuracy: 0.9330\n",
            "Epoch 6/30\n",
            "612/612 [==============================] - 110s 179ms/step - loss: 0.7626 - accuracy: 0.8865 - val_loss: 0.1848 - val_accuracy: 0.9428\n",
            "Epoch 7/30\n",
            "612/612 [==============================] - 106s 173ms/step - loss: 0.6381 - accuracy: 0.9049 - val_loss: 0.1740 - val_accuracy: 0.9485\n",
            "Epoch 8/30\n",
            "612/612 [==============================] - 108s 177ms/step - loss: 0.5611 - accuracy: 0.9200 - val_loss: 0.1445 - val_accuracy: 0.9549\n",
            "Epoch 9/30\n",
            "612/612 [==============================] - 109s 178ms/step - loss: 0.4861 - accuracy: 0.9297 - val_loss: 0.1514 - val_accuracy: 0.9555\n",
            "Epoch 10/30\n",
            "612/612 [==============================] - 107s 174ms/step - loss: 0.4279 - accuracy: 0.9377 - val_loss: 0.1234 - val_accuracy: 0.9643\n",
            "Epoch 11/30\n",
            "612/612 [==============================] - 108s 177ms/step - loss: 0.3907 - accuracy: 0.9433 - val_loss: 0.1335 - val_accuracy: 0.9571\n",
            "Epoch 12/30\n",
            "612/612 [==============================] - 106s 173ms/step - loss: 0.3801 - accuracy: 0.9463 - val_loss: 0.1445 - val_accuracy: 0.9549\n",
            "Epoch 13/30\n",
            "612/612 [==============================] - 107s 175ms/step - loss: 0.3400 - accuracy: 0.9500 - val_loss: 0.1115 - val_accuracy: 0.9668\n",
            "Epoch 14/30\n",
            "612/612 [==============================] - 104s 170ms/step - loss: 0.3290 - accuracy: 0.9530 - val_loss: 0.1192 - val_accuracy: 0.9669\n",
            "Epoch 15/30\n",
            "612/612 [==============================] - 104s 171ms/step - loss: 0.2908 - accuracy: 0.9580 - val_loss: 0.1278 - val_accuracy: 0.9657\n",
            "Epoch 16/30\n",
            "612/612 [==============================] - 105s 171ms/step - loss: 0.2795 - accuracy: 0.9591 - val_loss: 0.1281 - val_accuracy: 0.9656\n",
            "Epoch 17/30\n",
            "612/612 [==============================] - 103s 168ms/step - loss: 0.2637 - accuracy: 0.9628 - val_loss: 0.1008 - val_accuracy: 0.9707\n",
            "Epoch 18/30\n",
            "612/612 [==============================] - 106s 173ms/step - loss: 0.2355 - accuracy: 0.9641 - val_loss: 0.0832 - val_accuracy: 0.9739\n",
            "Epoch 19/30\n",
            "612/612 [==============================] - 106s 172ms/step - loss: 0.2334 - accuracy: 0.9657 - val_loss: 0.0921 - val_accuracy: 0.9745\n",
            "Epoch 20/30\n",
            "612/612 [==============================] - 110s 179ms/step - loss: 0.2316 - accuracy: 0.9668 - val_loss: 0.0878 - val_accuracy: 0.9754\n",
            "Epoch 21/30\n",
            "612/612 [==============================] - 106s 174ms/step - loss: 0.2094 - accuracy: 0.9700 - val_loss: 0.1234 - val_accuracy: 0.9685\n",
            "Epoch 22/30\n",
            "612/612 [==============================] - 108s 176ms/step - loss: 0.1965 - accuracy: 0.9701 - val_loss: 0.1121 - val_accuracy: 0.9695\n",
            "Epoch 23/30\n",
            "612/612 [==============================] - 104s 169ms/step - loss: 0.1982 - accuracy: 0.9711 - val_loss: 0.0914 - val_accuracy: 0.9734\n",
            "Epoch 24/30\n",
            "612/612 [==============================] - 108s 176ms/step - loss: 0.1784 - accuracy: 0.9722 - val_loss: 0.1124 - val_accuracy: 0.9703\n",
            "Epoch 25/30\n",
            "612/612 [==============================] - 105s 172ms/step - loss: 0.1736 - accuracy: 0.9736 - val_loss: 0.1070 - val_accuracy: 0.9722\n",
            "Epoch 26/30\n",
            "612/612 [==============================] - 103s 169ms/step - loss: 0.1823 - accuracy: 0.9740 - val_loss: 0.0818 - val_accuracy: 0.9761\n",
            "Epoch 27/30\n",
            "612/612 [==============================] - 105s 172ms/step - loss: 0.1622 - accuracy: 0.9761 - val_loss: 0.1439 - val_accuracy: 0.9648\n",
            "Epoch 28/30\n",
            "612/612 [==============================] - 105s 171ms/step - loss: 0.1684 - accuracy: 0.9748 - val_loss: 0.1177 - val_accuracy: 0.9690\n",
            "Epoch 29/30\n",
            "612/612 [==============================] - 106s 174ms/step - loss: 0.1548 - accuracy: 0.9764 - val_loss: 0.2150 - val_accuracy: 0.9502\n",
            "Epoch 30/30\n",
            "612/612 [==============================] - 103s 169ms/step - loss: 0.1398 - accuracy: 0.9790 - val_loss: 0.0831 - val_accuracy: 0.9779\n"
          ]
        }
      ]
    },
    {
      "cell_type": "markdown",
      "source": [
        "**We will run the prediction and generate the classification report.**"
      ],
      "metadata": {
        "id": "1A3srornW6c3"
      }
    },
    {
      "cell_type": "code",
      "source": [
        "labelNames = np.unique(train_data['Y'])\n",
        "\n",
        "# evaluate the network\n",
        "print(\"[INFO] evaluating network...\")\n",
        "predictions = model.predict(test_data['X'], batch_size=BS)\n",
        "\n",
        "print(classification_report(test_Y.argmax(axis=1),predictions.argmax(axis=1)))"
      ],
      "metadata": {
        "id": "zmDV5qieEVLB",
        "colab": {
          "base_uri": "https://localhost:8080/"
        },
        "outputId": "ed1a5df1-0281-410e-eded-7f9cf77113f3"
      },
      "execution_count": null,
      "outputs": [
        {
          "output_type": "stream",
          "name": "stdout",
          "text": [
            "[INFO] evaluating network...\n",
            "198/198 [==============================] - 8s 41ms/step\n",
            "              precision    recall  f1-score   support\n",
            "\n",
            "           0       1.00      1.00      1.00        60\n",
            "           1       0.98      0.99      0.99       720\n",
            "           2       1.00      0.97      0.99       660\n",
            "           3       0.98      0.93      0.96       420\n",
            "           4       1.00      1.00      1.00       690\n",
            "           5       1.00      1.00      1.00       720\n",
            "           6       0.97      1.00      0.98       270\n",
            "           7       0.99      1.00      0.99       210\n",
            "           8       1.00      1.00      1.00       150\n",
            "           9       1.00      0.99      0.99       360\n",
            "          10       1.00      0.86      0.93       390\n",
            "          11       0.97      1.00      0.98        60\n",
            "          12       0.99      0.98      0.99       750\n",
            "          13       0.85      1.00      0.92        90\n",
            "          14       0.99      0.94      0.97        90\n",
            "          15       0.99      0.80      0.88       120\n",
            "          16       0.97      1.00      0.98       150\n",
            "          17       0.97      0.99      0.98        90\n",
            "          18       0.89      0.99      0.94       480\n",
            "          19       0.87      0.89      0.88       180\n",
            "          20       0.88      0.97      0.92        60\n",
            "          21       0.93      0.98      0.95       150\n",
            "          22       0.95      1.00      0.97        90\n",
            "          23       0.99      0.94      0.97       450\n",
            "          24       0.96      0.91      0.94       150\n",
            "          25       0.98      0.99      0.99       270\n",
            "          26       1.00      1.00      1.00        60\n",
            "          27       1.00      0.99      1.00       210\n",
            "          28       0.98      1.00      0.99       120\n",
            "          29       0.99      0.98      0.99       390\n",
            "          30       0.98      1.00      0.99       120\n",
            "          31       1.00      1.00      1.00        60\n",
            "          32       1.00      1.00      1.00       690\n",
            "          33       1.00      1.00      1.00        90\n",
            "          34       0.99      0.99      0.99       660\n",
            "          35       0.99      0.98      0.98        90\n",
            "          36       0.95      1.00      0.98        60\n",
            "          37       0.94      1.00      0.97        90\n",
            "          38       0.93      0.98      0.95       630\n",
            "          39       0.97      0.96      0.97       150\n",
            "          40       1.00      0.98      0.99       450\n",
            "          41       0.97      0.98      0.98       450\n",
            "          42       1.00      1.00      1.00       480\n",
            "\n",
            "    accuracy                           0.98     12630\n",
            "   macro avg       0.97      0.98      0.97     12630\n",
            "weighted avg       0.98      0.98      0.98     12630\n",
            "\n"
          ]
        }
      ]
    },
    {
      "cell_type": "markdown",
      "source": [
        "**We plot the training accuracy and other parameters for visual confirmation.**"
      ],
      "metadata": {
        "id": "t-MWg83qXD7y"
      }
    },
    {
      "cell_type": "code",
      "source": [
        "# plot the training loss and accuracy\n",
        "N = np.arange(0, NUM_EPOCHS)\n",
        "plt.style.use(\"ggplot\")\n",
        "plt.figure()\n",
        "plt.plot(N, H.history[\"loss\"], label=\"train_loss\")\n",
        "plt.plot(N, H.history[\"val_loss\"], label=\"val_loss\")\n",
        "plt.plot(N, H.history[\"accuracy\"], label=\"train_acc\")\n",
        "plt.plot(N, H.history[\"val_accuracy\"], label=\"val_acc\")\n",
        "plt.title(\"Training Loss and Accuracy on Dataset\")\n",
        "plt.xlabel(\"Epoch #\")\n",
        "plt.ylabel(\"Loss/Accuracy\")\n",
        "plt.legend(loc=\"lower left\")"
      ],
      "metadata": {
        "colab": {
          "base_uri": "https://localhost:8080/",
          "height": 316
        },
        "id": "ylUM2ymRWA53",
        "outputId": "6a1fa41e-cc80-44f6-da62-6b1dc8f1c480"
      },
      "execution_count": null,
      "outputs": [
        {
          "output_type": "execute_result",
          "data": {
            "text/plain": [
              "<matplotlib.legend.Legend at 0x7fd9c6a76690>"
            ]
          },
          "metadata": {},
          "execution_count": 25
        },
        {
          "output_type": "display_data",
          "data": {
            "text/plain": [
              "<Figure size 432x288 with 1 Axes>"
            ],
            "image/png": "[encoded data removed]"
          },
          "metadata": {}
        }
      ]
    },
    {
      "cell_type": "markdown",
      "source": [
        "**Lastly we save the model for future usage.**"
      ],
      "metadata": {
        "id": "bxoqp2mvXJTV"
      }
    },
    {
      "cell_type": "code",
      "source": [
        "# save the network to disk\n",
        "model.save('/content/drive/MyDrive/Machine Learning/Models')"
      ],
      "metadata": {
        "colab": {
          "base_uri": "https://localhost:8080/"
        },
        "id": "k0qNxn1YVLaA",
        "outputId": "3d5ca381-2f0d-46c1-d2db-a44c456f7453"
      },
      "execution_count": null,
      "outputs": [
        {
          "output_type": "stream",
          "name": "stderr",
          "text": [
            "WARNING:absl:Found untraced functions such as _jit_compiled_convolution_op, _jit_compiled_convolution_op, _jit_compiled_convolution_op, _jit_compiled_convolution_op, _jit_compiled_convolution_op while saving (showing 5 of 5). These functions will not be directly callable after loading.\n"
          ]
        }
      ]
    }
  ]
}