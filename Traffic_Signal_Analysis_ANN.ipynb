{
  "nbformat": 4,
  "nbformat_minor": 0,
  "metadata": {
    "colab": {
      "provenance": [],
      "include_colab_link": true
    },
    "kernelspec": {
      "name": "python3",
      "display_name": "Python 3"
    },
    "language_info": {
      "name": "python"
    },
    "gpuClass": "standard"
  },
  "cells": [
    {
      "cell_type": "markdown",
      "metadata": {
        "id": "view-in-github",
        "colab_type": "text"
      },
      "source": [
        "<a href=\"https://colab.research.google.com/github/aninda-ghosh/Deep-Learning/blob/master/Traffic_Signal_Analysis_ANN.ipynb\" target=\"_parent\"><img src=\"https://colab.research.google.com/assets/colab-badge.svg\" alt=\"Open In Colab\"/></a>"
      ]
    },
    {
      "cell_type": "code",
      "execution_count": 1,
      "metadata": {
        "colab": {
          "base_uri": "https://localhost:8080/"
        },
        "id": "wa0tRunmjEaJ",
        "outputId": "a0791a7d-e344-4c3d-cb56-97adc58d37f8"
      },
      "outputs": [
        {
          "output_type": "stream",
          "name": "stdout",
          "text": [
            "Mounted at /content/drive\n"
          ]
        }
      ],
      "source": [
        "from google.colab import drive\n",
        "drive.mount('/content/drive')"
      ]
    },
    {
      "cell_type": "markdown",
      "source": [
        "**Let's Import the necessary libraries**"
      ],
      "metadata": {
        "id": "OfIRND952iAb"
      }
    },
    {
      "cell_type": "code",
      "source": [
        "import matplotlib\n",
        "matplotlib.use(\"Agg\")\n",
        "from PIL import Image \n",
        "from tensorflow.keras.preprocessing.image import ImageDataGenerator\n",
        "from tensorflow.keras.optimizers import Adam\n",
        "from tensorflow.keras.utils import to_categorical\n",
        "from sklearn.metrics import classification_report\n",
        "from skimage import transform\n",
        "from skimage import exposure\n",
        "from skimage import io\n",
        "import scipy.io as sio\n",
        "import matplotlib.pyplot as plt\n",
        "import numpy as np\n",
        "%matplotlib inline\n",
        "\n",
        "# import the necessary tensorflow packages\n",
        "from tensorflow.keras.models import Sequential\n",
        "from tensorflow.keras.layers import BatchNormalization\n",
        "from tensorflow.keras.layers import Activation\n",
        "from tensorflow.keras.layers import Flatten\n",
        "from tensorflow.keras.layers import Dropout\n",
        "from tensorflow.keras.layers import Dense\n"
      ],
      "metadata": {
        "id": "lQTAttNq2c2S"
      },
      "execution_count": 2,
      "outputs": []
    },
    {
      "cell_type": "markdown",
      "source": [
        "**Let's bring the datasets for analysis**"
      ],
      "metadata": {
        "id": "IohakICtdtn4"
      }
    },
    {
      "cell_type": "code",
      "source": [
        "train_data = sio.loadmat(\"/content/drive/MyDrive/Machine Learning/Dataset/trainset.mat\")\n",
        "test_data = sio.loadmat(\"/content/drive/MyDrive/Machine Learning/Dataset/testset.mat\")\n",
        "\n",
        "image_width = 32\n",
        "image_height = 32\n",
        "classes = 43"
      ],
      "metadata": {
        "id": "9QF8wrPAduDB"
      },
      "execution_count": 3,
      "outputs": []
    },
    {
      "cell_type": "markdown",
      "source": [
        "**Defining ANN Model**"
      ],
      "metadata": {
        "id": "nGRQhnWYcF13"
      }
    },
    {
      "cell_type": "code",
      "source": [
        "model = Sequential()\n",
        "model.add(Dense(512,input_shape =(1024,),activation='relu'))\n",
        "model.add(Dense(512, activation = 'relu'))\n",
        "model.add(Dropout(0.2))\n",
        "model.add(Dense(43,activation = 'sigmoid'))\n",
        "model.compile(Adam(0.1), 'binary_crossentropy', 'accuracy')"
      ],
      "metadata": {
        "id": "4YajSXuecFaP"
      },
      "execution_count": 17,
      "outputs": []
    },
    {
      "cell_type": "markdown",
      "source": [
        "**Images are to be resized and flattened**"
      ],
      "metadata": {
        "id": "WqMa2eqnWX6u"
      }
    },
    {
      "cell_type": "code",
      "source": [
        "trainX = []\n",
        "testX = []\n",
        "\n",
        "#Applying image transform to resize everything into 32x32 pixels and applying CLAHE method to improve the contrast.\n",
        "no_TrainImages = len(train_data['X'])\n",
        "for i in range(0,no_TrainImages):\n",
        "  # check to see if we should show a status update\n",
        "  if i > 0 and i % 1000 == 0:\n",
        "    print(\"[Train INFO] processed {} images / {} total images\".format(i, no_TrainImages))\n",
        "  train_data['X'][i] = transform.resize(train_data['X'][i], (32,32))\n",
        "  image = np.dot(train_data['X'][i][...,:3],[0.299, 0.587,0.114])\n",
        "  trainX.append(image.flatten())\n",
        " \n",
        "#Applying image transform to resize everything into 32x32 pixels and applying CLAHE method to improve the contrast.\n",
        "no_TestImages = len(test_data['X'])\n",
        "for i in range(0,no_TestImages):\n",
        "  # check to see if we should show a status update\n",
        "  if i > 0 and i % 1000 == 0:\n",
        "    print(\"[Test INFO] processed {} total images / {} total images\".format(i, no_TestImages))\n",
        "  test_data['X'][i] = transform.resize(test_data['X'][i], (32,32))\n",
        "  image = np.dot(test_data['X'][i][...,:3],[0.299, 0.587,0.114])\n",
        "  testX.append(image.flatten())"
      ],
      "metadata": {
        "id": "2nFC1-LH3NCn"
      },
      "execution_count": null,
      "outputs": []
    },
    {
      "cell_type": "code",
      "source": [
        "\n",
        "trainX = np.asarray(trainX)\n",
        "testX = np.asarray(testX)"
      ],
      "metadata": {
        "id": "Fjj0x6g7f4Jt"
      },
      "execution_count": 33,
      "outputs": []
    },
    {
      "cell_type": "markdown",
      "source": [
        "Since we have multiple labels, we have to do one hot encoding for performing the network training"
      ],
      "metadata": {
        "id": "hnOtk0wpWf3E"
      }
    },
    {
      "cell_type": "code",
      "source": [
        "# one-hot encode the training and testing labels\n",
        "print(len(np.unique(train_data['Y'])))\n",
        "\n",
        "numLabels = len(np.unique(train_data['Y']))\n",
        "train_Y = to_categorical(train_data['Y'], numLabels)\n",
        "test_Y = to_categorical(test_data['Y'], numLabels)\n",
        "\n",
        "# calculate the total number of images in each class and\n",
        "# initialize a dictionary to store the class weights\n",
        "classTotals = train_Y.sum(axis=0)\n",
        "classWeight = dict()\n",
        "# loop over all classes and calculate the class weight\n",
        "for i in range(0, len(classTotals)):\n",
        "\tclassWeight[i] = classTotals.max() / classTotals[i]"
      ],
      "metadata": {
        "id": "BYa4sJ0ofxM2",
        "colab": {
          "base_uri": "https://localhost:8080/"
        },
        "outputId": "fc7ed1da-c4f5-462e-9f71-2f3fdac9d17a"
      },
      "execution_count": 34,
      "outputs": [
        {
          "output_type": "stream",
          "name": "stdout",
          "text": [
            "43\n"
          ]
        }
      ]
    },
    {
      "cell_type": "markdown",
      "source": [
        "**We will use image data generator for augmenting various kinds of  image data like rotating the image or zooming in. This is for ensuring the network is not too biased**"
      ],
      "metadata": {
        "id": "DMEvBdqRWqBG"
      }
    },
    {
      "cell_type": "code",
      "source": [
        "# construct the image generator for data augmentation\n",
        "aug = ImageDataGenerator(\n",
        "\trotation_range=10,\n",
        "\tzoom_range=0.15,\n",
        "\twidth_shift_range=0.1,\n",
        "\theight_shift_range=0.1,\n",
        "\tshear_range=0.15,\n",
        "\thorizontal_flip=False,\n",
        "\tvertical_flip=False,\n",
        "\tfill_mode=\"nearest\")\n",
        "\n",
        "# initialize the number of epochs to train for, base learning rate,\n",
        "# and batch size\n",
        "NUM_EPOCHS = 10\n",
        "INIT_LR = 1e-3\n",
        "BS = 64\n",
        "\n",
        "\n",
        "# initialize the optimizer and compile the model\n",
        "print(\"[INFO] compiling model...\")\n",
        "opt = Adam(lr=INIT_LR, decay=INIT_LR / (NUM_EPOCHS * 0.5))\n",
        "\n",
        "model.compile(loss=\"categorical_crossentropy\", optimizer=opt, metrics=[\"accuracy\"])"
      ],
      "metadata": {
        "id": "4Cdq90qJoLU5",
        "colab": {
          "base_uri": "https://localhost:8080/"
        },
        "outputId": "7833a7f5-68b4-4461-f038-bc6e15c282f6"
      },
      "execution_count": 35,
      "outputs": [
        {
          "output_type": "stream",
          "name": "stdout",
          "text": [
            "[INFO] compiling model...\n"
          ]
        },
        {
          "output_type": "stream",
          "name": "stderr",
          "text": [
            "/usr/local/lib/python3.7/dist-packages/keras/optimizers/optimizer_v2/adam.py:110: UserWarning: The `lr` argument is deprecated, use `learning_rate` instead.\n",
            "  super(Adam, self).__init__(name, **kwargs)\n"
          ]
        }
      ]
    },
    {
      "cell_type": "markdown",
      "source": [
        "**Training the network**"
      ],
      "metadata": {
        "id": "kb5uceodW3cw"
      }
    },
    {
      "cell_type": "code",
      "source": [
        "# train the network\n",
        "\n",
        "print(\"[INFO] training network...\")\n",
        "H = model.fit(\n",
        "\t\ttrainX,\n",
        "\t\ttrain_Y,\n",
        "\t\tvalidation_data=(testX, test_Y),steps_per_epoch=len(trainX) // BS,\n",
        "\t\tepochs=NUM_EPOCHS,\n",
        "\t\tclass_weight=classWeight)"
      ],
      "metadata": {
        "id": "l-o2Bz7KEAjW",
        "colab": {
          "base_uri": "https://localhost:8080/"
        },
        "outputId": "d4dab47c-676e-428a-c89f-553d0713cead"
      },
      "execution_count": 36,
      "outputs": [
        {
          "output_type": "stream",
          "name": "stdout",
          "text": [
            "[INFO] training network...\n",
            "Epoch 1/10\n",
            "612/612 [==============================] - 8s 11ms/step - loss: 4.5487 - accuracy: 0.4822 - val_loss: 1.1095 - val_accuracy: 0.7413\n",
            "Epoch 2/10\n",
            "612/612 [==============================] - 7s 11ms/step - loss: 1.6835 - accuracy: 0.7955 - val_loss: 0.9085 - val_accuracy: 0.8137\n",
            "Epoch 3/10\n",
            "612/612 [==============================] - 8s 13ms/step - loss: 1.1590 - accuracy: 0.8568 - val_loss: 0.7744 - val_accuracy: 0.8396\n",
            "Epoch 4/10\n",
            "612/612 [==============================] - 7s 12ms/step - loss: 0.9078 - accuracy: 0.8854 - val_loss: 0.7570 - val_accuracy: 0.8514\n",
            "Epoch 5/10\n",
            "612/612 [==============================] - 7s 12ms/step - loss: 0.7055 - accuracy: 0.9096 - val_loss: 0.6690 - val_accuracy: 0.8713\n",
            "Epoch 6/10\n",
            "612/612 [==============================] - 8s 13ms/step - loss: 0.5633 - accuracy: 0.9274 - val_loss: 0.6546 - val_accuracy: 0.8775\n",
            "Epoch 7/10\n",
            "612/612 [==============================] - 9s 14ms/step - loss: 0.4879 - accuracy: 0.9341 - val_loss: 0.6824 - val_accuracy: 0.8708\n",
            "Epoch 8/10\n",
            "612/612 [==============================] - 7s 12ms/step - loss: 0.4342 - accuracy: 0.9398 - val_loss: 0.7263 - val_accuracy: 0.8655\n",
            "Epoch 9/10\n",
            "612/612 [==============================] - 7s 11ms/step - loss: 0.3696 - accuracy: 0.9472 - val_loss: 0.7209 - val_accuracy: 0.8693\n",
            "Epoch 10/10\n",
            "532/612 [=========================>....] - ETA: 0s - loss: 0.3444 - accuracy: 0.9512"
          ]
        },
        {
          "output_type": "stream",
          "name": "stderr",
          "text": [
            "WARNING:tensorflow:Your input ran out of data; interrupting training. Make sure that your dataset or generator can generate at least `steps_per_epoch * epochs` batches (in this case, 6120 batches). You may need to use the repeat() function when building your dataset.\n"
          ]
        },
        {
          "output_type": "stream",
          "name": "stdout",
          "text": [
            "\b\b\b\b\b\b\b\b\b\b\b\b\b\b\b\b\b\b\b\b\b\b\b\b\b\b\b\b\b\b\b\b\b\b\b\b\b\b\b\b\b\b\b\b\b\b\b\b\b\b\b\b\b\b\b\b\b\b\b\b\b\b\b\b\b\b\b\b\b\b\b\b\b\b\b\b\b\b\b\b\b\b\b\b\r612/612 [==============================] - 6s 11ms/step - loss: 0.3444 - accuracy: 0.9512 - val_loss: 0.6151 - val_accuracy: 0.8909\n"
          ]
        }
      ]
    },
    {
      "cell_type": "code",
      "source": [
        "model.summary()"
      ],
      "metadata": {
        "id": "AUyVOejIMK5g",
        "colab": {
          "base_uri": "https://localhost:8080/"
        },
        "outputId": "404bc1fd-f449-4130-8577-5adb9f6485b7"
      },
      "execution_count": 37,
      "outputs": [
        {
          "output_type": "stream",
          "name": "stdout",
          "text": [
            "Model: \"sequential\"\n",
            "_________________________________________________________________\n",
            " Layer (type)                Output Shape              Param #   \n",
            "=================================================================\n",
            " dense (Dense)               (None, 512)               524800    \n",
            "                                                                 \n",
            " dense_1 (Dense)             (None, 512)               262656    \n",
            "                                                                 \n",
            " dropout (Dropout)           (None, 512)               0         \n",
            "                                                                 \n",
            " dense_2 (Dense)             (None, 43)                22059     \n",
            "                                                                 \n",
            "=================================================================\n",
            "Total params: 809,515\n",
            "Trainable params: 809,515\n",
            "Non-trainable params: 0\n",
            "_________________________________________________________________\n"
          ]
        }
      ]
    },
    {
      "cell_type": "markdown",
      "source": [
        "**We will run the prediction and generate the classification report.**"
      ],
      "metadata": {
        "id": "1A3srornW6c3"
      }
    },
    {
      "cell_type": "code",
      "source": [
        "labelNames = np.unique(train_data['Y'])\n",
        "\n",
        "# evaluate the network\n",
        "print(\"[INFO] evaluating network...\")\n",
        "predictions = model.predict(testX, batch_size=BS)\n",
        "\n",
        "print(classification_report(test_Y.argmax(axis=1),predictions.argmax(axis=1)))"
      ],
      "metadata": {
        "id": "zmDV5qieEVLB",
        "colab": {
          "base_uri": "https://localhost:8080/"
        },
        "outputId": "3804a86c-ebb6-4fa7-8531-cd623354bc08"
      },
      "execution_count": 39,
      "outputs": [
        {
          "output_type": "stream",
          "name": "stdout",
          "text": [
            "[INFO] evaluating network...\n",
            "198/198 [==============================] - 1s 4ms/step\n",
            "              precision    recall  f1-score   support\n",
            "\n",
            "           0       0.19      0.97      0.32        60\n",
            "           1       0.63      0.70      0.66       720\n",
            "           2       0.96      0.94      0.95       660\n",
            "           3       0.92      0.95      0.93       420\n",
            "           4       0.93      0.91      0.92       690\n",
            "           5       0.88      0.99      0.94       720\n",
            "           6       0.77      0.98      0.86       270\n",
            "           7       0.94      0.96      0.95       210\n",
            "           8       0.65      0.97      0.78       150\n",
            "           9       0.95      0.88      0.91       360\n",
            "          10       0.84      0.72      0.78       390\n",
            "          11       0.54      0.87      0.66        60\n",
            "          12       0.85      0.69      0.76       750\n",
            "          13       0.64      0.92      0.75        90\n",
            "          14       0.87      0.51      0.64        90\n",
            "          15       0.83      0.84      0.83       120\n",
            "          16       0.74      0.80      0.77       150\n",
            "          17       0.77      0.57      0.65        90\n",
            "          18       0.91      0.83      0.87       480\n",
            "          19       0.57      0.67      0.62       180\n",
            "          20       0.81      0.50      0.62        60\n",
            "          21       0.98      0.80      0.88       150\n",
            "          22       0.79      0.90      0.84        90\n",
            "          23       0.85      0.95      0.89       450\n",
            "          24       0.72      0.79      0.75       150\n",
            "          25       0.90      0.94      0.92       270\n",
            "          26       0.66      1.00      0.79        60\n",
            "          27       0.87      0.96      0.91       210\n",
            "          28       0.59      0.98      0.74       120\n",
            "          29       0.99      0.81      0.89       390\n",
            "          30       0.71      0.92      0.80       120\n",
            "          31       0.66      0.92      0.77        60\n",
            "          32       0.98      0.76      0.86       690\n",
            "          33       0.68      0.64      0.66        90\n",
            "          34       0.97      0.76      0.85       660\n",
            "          35       0.64      0.97      0.77        90\n",
            "          36       0.60      0.70      0.65        60\n",
            "          37       0.85      0.79      0.82        90\n",
            "          38       0.84      0.77      0.80       630\n",
            "          39       0.93      0.66      0.77       150\n",
            "          40       0.93      0.81      0.86       450\n",
            "          41       0.88      0.84      0.86       450\n",
            "          42       0.96      0.81      0.88       480\n",
            "\n",
            "    accuracy                           0.83     12630\n",
            "   macro avg       0.79      0.83      0.79     12630\n",
            "weighted avg       0.86      0.83      0.84     12630\n",
            "\n"
          ]
        }
      ]
    },
    {
      "cell_type": "markdown",
      "source": [
        "**We plot the training accuracy and other parameters for visual confirmation.**"
      ],
      "metadata": {
        "id": "t-MWg83qXD7y"
      }
    },
    {
      "cell_type": "code",
      "source": [
        "# plot the training loss and accuracy\n",
        "N = np.arange(0, NUM_EPOCHS)\n",
        "plt.style.use(\"ggplot\")\n",
        "plt.figure()\n",
        "plt.plot(N, H.history[\"loss\"], label=\"train_loss\")\n",
        "plt.plot(N, H.history[\"val_loss\"], label=\"val_loss\")\n",
        "plt.plot(N, H.history[\"accuracy\"], label=\"train_acc\")\n",
        "plt.plot(N, H.history[\"val_accuracy\"], label=\"val_acc\")\n",
        "plt.title(\"Training Loss and Accuracy on Dataset\")\n",
        "plt.xlabel(\"Epoch #\")\n",
        "plt.ylabel(\"Loss/Accuracy\")\n",
        "plt.legend(loc=\"lower left\")"
      ],
      "metadata": {
        "id": "ylUM2ymRWA53",
        "colab": {
          "base_uri": "https://localhost:8080/",
          "height": 316
        },
        "outputId": "0bb13f8f-de11-466a-fbca-0d0ccfa64438"
      },
      "execution_count": 40,
      "outputs": [
        {
          "output_type": "execute_result",
          "data": {
            "text/plain": [
              "<matplotlib.legend.Legend at 0x7f230b16b110>"
            ]
          },
          "metadata": {},
          "execution_count": 40
        },
        {
          "output_type": "display_data",
          "data": {
            "text/plain": [
              "<Figure size 432x288 with 1 Axes>"
            ],
            "image/png": "[encoded data removed]"
          },
          "metadata": {}
        }
      ]
    },
    {
      "cell_type": "markdown",
      "source": [
        "**Lastly we save the model for future usage.**"
      ],
      "metadata": {
        "id": "bxoqp2mvXJTV"
      }
    },
    {
      "cell_type": "code",
      "source": [
        "# save the network to disk\n",
        "model.save('/content/drive/MyDrive/Machine Learning/Models')"
      ],
      "metadata": {
        "id": "k0qNxn1YVLaA"
      },
      "execution_count": null,
      "outputs": []
    }
  ]
}